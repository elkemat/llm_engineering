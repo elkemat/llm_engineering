{
 "cells": [
  {
   "cell_type": "code",
   "execution_count": 1,
   "id": "692029bf-c048-41eb-8862-f215d85d3ad2",
   "metadata": {},
   "outputs": [
    {
     "name": "stdout",
     "output_type": "stream",
     "text": [
      "Requirement already satisfied: pypdf in /opt/anaconda3/envs/llms/lib/python3.11/site-packages (5.9.0)\n"
     ]
    }
   ],
   "source": [
    "!pip install pypdf"
   ]
  },
  {
   "cell_type": "code",
   "execution_count": 2,
   "id": "808dab18-a2d1-48c0-98da-6c4306be248b",
   "metadata": {},
   "outputs": [],
   "source": [
    "# imports\n",
    "import os\n",
    "from dotenv import load_dotenv\n",
    "from openai import OpenAI\n",
    "from IPython.display import Markdown, display\n",
    "from pypdf import PdfReader"
   ]
  },
  {
   "cell_type": "code",
   "execution_count": 3,
   "id": "bf480f64-f510-45d2-b776-776b3f00e52d",
   "metadata": {},
   "outputs": [
    {
     "name": "stdout",
     "output_type": "stream",
     "text": [
      "API key found and looks good so far!\n"
     ]
    }
   ],
   "source": [
    "# Load environment variables in a file called .env\n",
    "\n",
    "load_dotenv(override=True)\n",
    "api_key = os.getenv('OPENAI_API_KEY')\n",
    "\n",
    "# Check the key\n",
    "\n",
    "if not api_key:\n",
    "    print(\"No API key was found - please head over to the troubleshooting notebook in this folder to identify & fix!\")\n",
    "elif not api_key.startswith(\"sk-proj-\"):\n",
    "    print(\"An API key was found, but it doesn't start sk-proj-; please check you're using the right key - see troubleshooting notebook\")\n",
    "elif api_key.strip() != api_key:\n",
    "    print(\"An API key was found, but it looks like it might have space or tab characters at the start or end - please remove them - see troubleshooting notebook\")\n",
    "else:\n",
    "    print(\"API key found and looks good so far!\")"
   ]
  },
  {
   "cell_type": "code",
   "execution_count": 4,
   "id": "8329efdc-2fc3-4f8b-b4e1-56095a31e9f0",
   "metadata": {},
   "outputs": [],
   "source": [
    "openai = OpenAI()"
   ]
  },
  {
   "cell_type": "code",
   "execution_count": 5,
   "id": "f204beda-b970-447d-b1d7-9ca4beb94888",
   "metadata": {},
   "outputs": [],
   "source": [
    "# Step 1: Create your prompts\n",
    "\n",
    "system_prompt = \"You are a proposal evaluator that critically \\\n",
    "assesses R&D project proposals applying for public funding in Austria. \\\n",
    "Answer with a bullet point list of shortcomings of a proposal provided. \\\n",
    "Respond in markdown.\""
   ]
  },
  {
   "cell_type": "code",
   "execution_count": 6,
   "id": "4e31bec1-7d87-4179-9bab-5f70657f6264",
   "metadata": {},
   "outputs": [],
   "source": [
    "def user_prompt_for(proposal_file):\n",
    "    reader = PdfReader(proposal_file)\n",
    "    proposal_text = \"\"\n",
    "    for page in reader.pages:\n",
    "        proposal_text += str(page.extract_text())\n",
    "    return proposal_text"
   ]
  },
  {
   "cell_type": "code",
   "execution_count": 7,
   "id": "102d23ca-a3c8-4d79-8206-ccb4cf953356",
   "metadata": {},
   "outputs": [],
   "source": [
    "# print(user_prompt_for(\"./Basisprogramm_technisches-Konzept.pdf\"))"
   ]
  },
  {
   "cell_type": "code",
   "execution_count": 8,
   "id": "f395524d-f557-44ce-b3ab-1a108a877939",
   "metadata": {},
   "outputs": [
    {
     "name": "stderr",
     "output_type": "stream",
     "text": [
      "Ignoring wrong pointing object 6 0 (offset 0)\n",
      "Ignoring wrong pointing object 8 0 (offset 0)\n",
      "Ignoring wrong pointing object 10 0 (offset 0)\n",
      "Ignoring wrong pointing object 12 0 (offset 0)\n",
      "Ignoring wrong pointing object 18 0 (offset 0)\n",
      "Ignoring wrong pointing object 20 0 (offset 0)\n",
      "Ignoring wrong pointing object 22 0 (offset 0)\n",
      "Ignoring wrong pointing object 24 0 (offset 0)\n",
      "Ignoring wrong pointing object 30 0 (offset 0)\n",
      "Ignoring wrong pointing object 32 0 (offset 0)\n",
      "Ignoring wrong pointing object 37 0 (offset 0)\n",
      "Ignoring wrong pointing object 42 0 (offset 0)\n",
      "Ignoring wrong pointing object 50 0 (offset 0)\n",
      "Ignoring wrong pointing object 55 0 (offset 0)\n",
      "Ignoring wrong pointing object 64 0 (offset 0)\n",
      "Ignoring wrong pointing object 92 0 (offset 0)\n"
     ]
    }
   ],
   "source": [
    "# Step 2: Make the messages list\n",
    "\n",
    "messages = [\n",
    "    {\"role\": \"system\", \"content\": system_prompt},\n",
    "    {\"role\": \"system\", \"content\": user_prompt_for(\"./Basisprogramm_technisches-Konzept.pdf\")}\n",
    "]"
   ]
  },
  {
   "cell_type": "code",
   "execution_count": 9,
   "id": "32faa741-e004-4d8a-96cd-6e92e97e786d",
   "metadata": {},
   "outputs": [],
   "source": [
    "# Step 3: Call OpenAI\n",
    "\n",
    "response = openai.chat.completions.create(\n",
    "    model = \"gpt-4o-mini\",\n",
    "    messages = messages\n",
    ")"
   ]
  },
  {
   "cell_type": "code",
   "execution_count": 10,
   "id": "6923ff89-9826-4b49-9d46-6dd8e6fdbe8b",
   "metadata": {},
   "outputs": [
    {
     "data": {
      "text/markdown": [
       "- **Unklare Projektziele**: Es fehlen präzise und messbare Zielvorgaben, um die Erreichung der Projektziele zu prüfen.\n",
       "- **Fehlende quantitativen Nachweise**: Geplante KPIs sind nicht klar definiert oder fehlen, was die Nachvollziehbarkeit der Zielerreichung erschwert.\n",
       "- **Unzureichende Darstellung des Stands der Technik**: Die Analyse des aktuellen Stands enthielt bessere Beispiele und detaillierte Vergleiche, die nicht ausreichend erläutert wurden.\n",
       "- **Mangelnde Innovation**: Die Neuheit des Projekts wurde nicht überzeugend gegenüber dem Stand der Technik dargestellt, wodurch die Innovationskraft in Frage gestellt wird.\n",
       "- **Unzureichende Schutzstrategie**: Es fehlen klare Aussagen zur Patentrecherche und deren Ergebnisse, was zur Unsicherheit bezüglich des geistigen Eigentums führt.\n",
       "- **Eingeschränkte Darstellung der Nutzen**: Der Nutzen des Projekts wurde unzureichend quantifiziert und gegenüber bestehenden Lösungen nicht klar positioniert.\n",
       "- **Unklare Umweltauswirkungen**: Mangelnde Angaben zu umweltrelevanten Folgen der Entwicklung oder des Betriebs des geplanten Tools.\n",
       "- **Unzureichendes Risikomanagement**: Risiken wurden nicht systematisch erfasst und passende Gegenmaßnahmen fehlen.\n",
       "- **Vorbereitende Arbeiten unklar**: Vorarbeiten oder Prototypen aus früheren Projekten wurden nicht ausreichend erwähnt, obwohl sie für die Argumentation relevant sein könnten.\n",
       "- **Vage Arbeits- und Zeitpläne**: Es fehlen klare Zeitpläne und Arbeitspakete, was zu Zweifeln an der Machbarkeit des Projekts führt.\n",
       "- **Mangel an Stakeholder-Engagement**: Die Einbeziehung von Nutzerfeedback oder Marktanalysen für die Projektentwicklung wurde nicht ausreichend dargestellt.\n",
       "- **Unzureichende Berücksichtigung von Datenschutz**: Der Umgang mit personenbezogenen Daten und deren Analyse wurde nicht eindeutig adressiert, was potenzielle rechtliche Probleme verursachen könnte."
      ],
      "text/plain": [
       "<IPython.core.display.Markdown object>"
      ]
     },
     "metadata": {},
     "output_type": "display_data"
    }
   ],
   "source": [
    "# Step 4: print the result\n",
    "\n",
    "display(Markdown(response.choices[0].message.content))"
   ]
  },
  {
   "cell_type": "code",
   "execution_count": null,
   "id": "4f33bb5b-b03a-44d6-b6e8-4a44d78817d9",
   "metadata": {},
   "outputs": [],
   "source": []
  }
 ],
 "metadata": {
  "kernelspec": {
   "display_name": "Python 3 (ipykernel)",
   "language": "python",
   "name": "python3"
  },
  "language_info": {
   "codemirror_mode": {
    "name": "ipython",
    "version": 3
   },
   "file_extension": ".py",
   "mimetype": "text/x-python",
   "name": "python",
   "nbconvert_exporter": "python",
   "pygments_lexer": "ipython3",
   "version": "3.11.13"
  }
 },
 "nbformat": 4,
 "nbformat_minor": 5
}
